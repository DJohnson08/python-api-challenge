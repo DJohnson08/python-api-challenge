{
 "cells": [
  {
   "cell_type": "markdown",
   "metadata": {},
   "source": [
    "# WeatherPy\n",
    "\n",
    "---\n",
    "\n",
    "## Starter Code to Generate Random Geographic Coordinates and a List of Cities"
   ]
  },
  {
   "cell_type": "code",
   "execution_count": 1,
   "metadata": {
    "scrolled": true
   },
   "outputs": [],
   "source": [
    "# Dependencies and Setup\n",
    "import matplotlib.pyplot as plt\n",
    "import pandas as pd\n",
    "import numpy as np\n",
    "import requests\n",
    "import time\n",
    "from scipy.stats import linregress\n",
    "\n",
    "# Impor the OpenWeatherMap API key\n",
    "from api_keys import weather_api_key\n",
    "\n",
    "# Import citipy to determine the cities based on latitude and longitude\n",
    "from citipy import citipy"
   ]
  },
  {
   "cell_type": "markdown",
   "metadata": {},
   "source": [
    "### Generate the Cities List by Using the `citipy` Library"
   ]
  },
  {
   "cell_type": "code",
   "execution_count": 3,
   "metadata": {},
   "outputs": [
    {
     "name": "stdout",
     "output_type": "stream",
     "text": [
      "Number of cities in the list: 585\n"
     ]
    }
   ],
   "source": [
    "# Empty list for holding the latitude and longitude combinations\n",
    "lat_lngs = []\n",
    "\n",
    "# Empty list for holding the cities names\n",
    "cities = []\n",
    "\n",
    "# Range of latitudes and longitudes\n",
    "lat_range = (-90, 90)\n",
    "lng_range = (-180, 180)\n",
    "\n",
    "# Create a set of random lat and lng combinations\n",
    "lats = np.random.uniform(lat_range[0], lat_range[1], size=1500)\n",
    "lngs = np.random.uniform(lng_range[0], lng_range[1], size=1500)\n",
    "lat_lngs = zip(lats, lngs)\n",
    "\n",
    "# Identify nearest city for each lat, lng combination\n",
    "for lat_lng in lat_lngs:\n",
    "    city = citipy.nearest_city(lat_lng[0], lat_lng[1]).city_name\n",
    "\n",
    "    # If the city is unique, then add it to a our cities list\n",
    "    if city not in cities:\n",
    "        cities.append(city)\n",
    "\n",
    "# Print the city count to confirm sufficient count\n",
    "print(f\"Number of cities in the list: {len(cities)}\")"
   ]
  },
  {
   "cell_type": "markdown",
   "metadata": {},
   "source": [
    "---"
   ]
  },
  {
   "cell_type": "markdown",
   "metadata": {},
   "source": [
    "## Requirement 1: Create Plots to Showcase the Relationship Between Weather Variables and Latitude\n",
    "\n",
    "### Use the OpenWeatherMap API to retrieve weather data from the cities list generated in the started code"
   ]
  },
  {
   "cell_type": "code",
   "execution_count": null,
   "metadata": {},
   "outputs": [
    {
     "name": "stdout",
     "output_type": "stream",
     "text": [
      "Beginning Data Retrieval     \n",
      "-----------------------------\n",
      "Processing Record 1 of Set 1 | yellowknife\n",
      "Processing Record 2 of Set 1 | ribeira grande\n",
      "Processing Record 3 of Set 1 | savanna-la-mar\n",
      "Processing Record 4 of Set 1 | edinburgh of the seven seas\n",
      "Processing Record 5 of Set 1 | blackmans bay\n",
      "Processing Record 6 of Set 1 | jamestown\n",
      "Processing Record 7 of Set 1 | waitangi\n",
      "Processing Record 8 of Set 1 | taiohae\n",
      "City not found. Skipping...\n",
      "Processing Record 9 of Set 1 | port elizabeth\n",
      "Processing Record 10 of Set 1 | udachny\n",
      "Processing Record 11 of Set 1 | alotau\n",
      "Processing Record 12 of Set 1 | bethel\n",
      "Processing Record 13 of Set 1 | papatowai\n",
      "Processing Record 14 of Set 1 | pisco\n",
      "Processing Record 15 of Set 1 | kavaratti\n",
      "Processing Record 16 of Set 1 | avarua\n",
      "Processing Record 17 of Set 1 | howard springs\n",
      "Processing Record 18 of Set 1 | cabo san lucas\n",
      "Processing Record 19 of Set 1 | vilyuysk\n",
      "Processing Record 20 of Set 1 | puerto armuelles\n",
      "Processing Record 21 of Set 1 | puerto natales\n",
      "Processing Record 22 of Set 1 | yarmouth\n",
      "Processing Record 23 of Set 1 | grytviken\n",
      "Processing Record 24 of Set 1 | ilulissat\n",
      "Processing Record 25 of Set 1 | sogndal\n",
      "Processing Record 26 of Set 1 | akbarabad\n",
      "Processing Record 27 of Set 1 | la mira\n",
      "Processing Record 28 of Set 1 | chanika\n",
      "Processing Record 29 of Set 1 | invercargill\n",
      "Processing Record 30 of Set 1 | hermanus\n",
      "Processing Record 31 of Set 1 | coquimbo\n",
      "Processing Record 32 of Set 1 | kapuskasing\n",
      "Processing Record 33 of Set 1 | staryye ozinki\n",
      "Processing Record 34 of Set 1 | tianpeng\n",
      "Processing Record 35 of Set 1 | darwin\n",
      "Processing Record 36 of Set 1 | adamstown\n",
      "Processing Record 37 of Set 1 | nakhon si thammarat\n",
      "Processing Record 38 of Set 1 | yanchep\n",
      "Processing Record 39 of Set 1 | longquan\n",
      "Processing Record 40 of Set 1 | vingt cinq\n",
      "City not found. Skipping...\n",
      "Processing Record 41 of Set 1 | vernon\n",
      "Processing Record 42 of Set 1 | dwarka\n",
      "Processing Record 43 of Set 1 | ceeldheer\n",
      "Processing Record 44 of Set 1 | ushuaia\n",
      "Processing Record 45 of Set 1 | port-aux-francais\n",
      "Processing Record 46 of Set 1 | wakema\n",
      "Processing Record 47 of Set 1 | susuman\n",
      "Processing Record 48 of Set 1 | albany\n",
      "Processing Record 49 of Set 1 | isafjordur\n",
      "Processing Record 50 of Set 1 | nar'yan-mar\n",
      "Processing Record 0 of Set 2 | kruisfontein\n",
      "Processing Record 1 of Set 2 | kailua-kona\n",
      "Processing Record 2 of Set 2 | bredasdorp\n",
      "Processing Record 3 of Set 2 | iqaluit\n",
      "Processing Record 4 of Set 2 | wailua homesteads\n",
      "Processing Record 5 of Set 2 | la passe\n",
      "Processing Record 6 of Set 2 | thompson\n",
      "Processing Record 7 of Set 2 | georgetown\n",
      "Processing Record 8 of Set 2 | yanbu\n",
      "Processing Record 9 of Set 2 | grand-bassam\n",
      "Processing Record 10 of Set 2 | vallo della lucania\n",
      "Processing Record 11 of Set 2 | murzuq\n",
      "Processing Record 12 of Set 2 | hinganghat\n",
      "Processing Record 13 of Set 2 | harstad\n",
      "Processing Record 14 of Set 2 | puerto san carlos\n",
      "City not found. Skipping...\n",
      "Processing Record 15 of Set 2 | papao\n",
      "Processing Record 16 of Set 2 | moroto\n",
      "Processing Record 17 of Set 2 | shuangjiang\n",
      "Processing Record 18 of Set 2 | stanley\n",
      "Processing Record 19 of Set 2 | lebu\n",
      "Processing Record 20 of Set 2 | chadron\n",
      "Processing Record 21 of Set 2 | pimentel\n",
      "Processing Record 22 of Set 2 | damghan\n",
      "Processing Record 23 of Set 2 | weno\n",
      "Processing Record 24 of Set 2 | crane\n",
      "Processing Record 25 of Set 2 | buala\n",
      "Processing Record 26 of Set 2 | constantia\n",
      "Processing Record 27 of Set 2 | visby\n",
      "Processing Record 28 of Set 2 | atbasar\n",
      "Processing Record 29 of Set 2 | san antonio de pale\n",
      "Processing Record 30 of Set 2 | vila franca do campo\n",
      "Processing Record 31 of Set 2 | ijuw\n",
      "City not found. Skipping...\n",
      "Processing Record 32 of Set 2 | ancud\n",
      "Processing Record 33 of Set 2 | chinju\n",
      "Processing Record 34 of Set 2 | hastings\n",
      "Processing Record 35 of Set 2 | qinggang\n",
      "Processing Record 36 of Set 2 | utrik\n",
      "Processing Record 37 of Set 2 | keelung\n",
      "Processing Record 38 of Set 2 | al kharijah\n",
      "Processing Record 39 of Set 2 | saint-joseph\n",
      "Processing Record 40 of Set 2 | palmer\n",
      "Processing Record 41 of Set 2 | prince rupert\n",
      "Processing Record 42 of Set 2 | vallenar\n",
      "Processing Record 43 of Set 2 | san julian\n",
      "Processing Record 44 of Set 2 | lucapa\n",
      "Processing Record 45 of Set 2 | lewisburg\n",
      "Processing Record 46 of Set 2 | kodiak\n",
      "Processing Record 47 of Set 2 | tazacorte\n",
      "Processing Record 48 of Set 2 | bel ombre\n",
      "Processing Record 49 of Set 2 | fort bragg\n",
      "Processing Record 0 of Set 3 | saipan\n",
      "Processing Record 1 of Set 3 | portland\n",
      "Processing Record 2 of Set 3 | miranpur katra\n",
      "Processing Record 3 of Set 3 | whitehorse\n",
      "Processing Record 4 of Set 3 | vilyuchinsk\n",
      "Processing Record 5 of Set 3 | fortuna\n",
      "Processing Record 6 of Set 3 | eyl\n",
      "Processing Record 7 of Set 3 | altamira\n",
      "Processing Record 8 of Set 3 | kill devil hills\n",
      "Processing Record 9 of Set 3 | mejit\n",
      "Processing Record 10 of Set 3 | askoy\n",
      "Processing Record 11 of Set 3 | tralee\n",
      "Processing Record 12 of Set 3 | tranovaho\n",
      "City not found. Skipping...\n",
      "Processing Record 13 of Set 3 | ayr\n",
      "Processing Record 14 of Set 3 | badger\n",
      "Processing Record 15 of Set 3 | naze\n",
      "Processing Record 16 of Set 3 | nizhnevartovsk\n",
      "Processing Record 17 of Set 3 | vorgashor\n",
      "Processing Record 18 of Set 3 | bangar\n",
      "Processing Record 19 of Set 3 | pericos\n",
      "Processing Record 20 of Set 3 | lihue\n",
      "Processing Record 21 of Set 3 | polyarnyy\n",
      "Processing Record 22 of Set 3 | tura\n",
      "Processing Record 23 of Set 3 | st. john's\n",
      "Processing Record 24 of Set 3 | moses lake\n",
      "Processing Record 25 of Set 3 | fisterra\n",
      "Processing Record 26 of Set 3 | urangan\n",
      "Processing Record 27 of Set 3 | brisas barra de suchiate\n",
      "Processing Record 28 of Set 3 | broken hill\n",
      "Processing Record 29 of Set 3 | buka\n",
      "Processing Record 30 of Set 3 | alice springs\n",
      "Processing Record 31 of Set 3 | tandag\n",
      "Processing Record 32 of Set 3 | kankan\n",
      "Processing Record 33 of Set 3 | kurumkan\n",
      "Processing Record 34 of Set 3 | sosnovo-ozerskoye\n",
      "Processing Record 35 of Set 3 | remire-montjoly\n",
      "Processing Record 36 of Set 3 | whakatane\n",
      "Processing Record 37 of Set 3 | callao\n",
      "Processing Record 38 of Set 3 | rabo de peixe\n",
      "Processing Record 39 of Set 3 | tiksi\n",
      "Processing Record 40 of Set 3 | labrador city\n",
      "Processing Record 41 of Set 3 | mchinji\n",
      "Processing Record 42 of Set 3 | key largo\n",
      "Processing Record 43 of Set 3 | gargalianoi\n",
      "Processing Record 44 of Set 3 | shumikha\n",
      "Processing Record 45 of Set 3 | stornoway\n",
      "Processing Record 46 of Set 3 | kalix\n",
      "Processing Record 47 of Set 3 | aasiaat\n",
      "Processing Record 48 of Set 3 | ad dilam\n",
      "Processing Record 49 of Set 3 | revda\n",
      "Processing Record 0 of Set 4 | tobelo\n",
      "Processing Record 1 of Set 4 | sidhi\n",
      "Processing Record 2 of Set 4 | paracuru\n",
      "Processing Record 3 of Set 4 | uturoa\n",
      "Processing Record 4 of Set 4 | roses\n",
      "Processing Record 5 of Set 4 | east london\n",
      "Processing Record 6 of Set 4 | mont-dore\n",
      "Processing Record 7 of Set 4 | arno\n",
      "Processing Record 8 of Set 4 | nadi\n",
      "Processing Record 9 of Set 4 | hithadhoo\n",
      "Processing Record 10 of Set 4 | lompoc\n",
      "Processing Record 11 of Set 4 | corinto\n",
      "Processing Record 12 of Set 4 | port arthur\n",
      "Processing Record 13 of Set 4 | tawau\n",
      "Processing Record 14 of Set 4 | jiexiu\n",
      "Processing Record 15 of Set 4 | hasaki\n",
      "Processing Record 16 of Set 4 | bathsheba\n",
      "Processing Record 17 of Set 4 | taveta\n",
      "Processing Record 18 of Set 4 | alo\n",
      "Processing Record 19 of Set 4 | queenstown\n",
      "Processing Record 20 of Set 4 | quellon\n",
      "Processing Record 21 of Set 4 | monroe\n",
      "Processing Record 22 of Set 4 | antsiranana\n",
      "Processing Record 23 of Set 4 | acapulco de juarez\n",
      "Processing Record 24 of Set 4 | longyearbyen\n",
      "Processing Record 25 of Set 4 | olonkinbyen\n",
      "Processing Record 26 of Set 4 | labytnangi\n",
      "Processing Record 27 of Set 4 | touros\n",
      "Processing Record 28 of Set 4 | bodden town\n",
      "Processing Record 29 of Set 4 | zaozersk\n",
      "Processing Record 30 of Set 4 | conakry\n",
      "Processing Record 31 of Set 4 | ust-nera\n",
      "Processing Record 32 of Set 4 | qamdo\n",
      "Processing Record 33 of Set 4 | klyuchi\n",
      "Processing Record 34 of Set 4 | bargaal\n",
      "Processing Record 35 of Set 4 | isangel\n",
      "Processing Record 36 of Set 4 | ola\n",
      "Processing Record 37 of Set 4 | puerto real\n",
      "Processing Record 38 of Set 4 | keflavik\n",
      "Processing Record 39 of Set 4 | nadym\n",
      "Processing Record 40 of Set 4 | aragarcas\n",
      "Processing Record 41 of Set 4 | mount isa\n",
      "Processing Record 42 of Set 4 | nuuk\n",
      "Processing Record 43 of Set 4 | lahaina\n",
      "Processing Record 44 of Set 4 | narasannapeta\n",
      "Processing Record 45 of Set 4 | saint-pierre\n",
      "Processing Record 46 of Set 4 | villa huidobro\n",
      "Processing Record 47 of Set 4 | salekhard\n",
      "Processing Record 48 of Set 4 | auki\n",
      "Processing Record 49 of Set 4 | baixa grande\n",
      "Processing Record 0 of Set 5 | afaahiti\n",
      "Processing Record 1 of Set 5 | minas de matahambre\n",
      "Processing Record 2 of Set 5 | huarmey\n",
      "Processing Record 3 of Set 5 | page\n",
      "Processing Record 4 of Set 5 | college\n",
      "Processing Record 5 of Set 5 | enoch\n",
      "Processing Record 6 of Set 5 | arraial do cabo\n",
      "Processing Record 7 of Set 5 | joshimath\n",
      "Processing Record 8 of Set 5 | suoyarvi\n",
      "Processing Record 9 of Set 5 | choele choel\n",
      "Processing Record 10 of Set 5 | nkurenkuru\n",
      "City not found. Skipping...\n",
      "Processing Record 11 of Set 5 | salyan\n",
      "Processing Record 12 of Set 5 | tibanbang\n",
      "Processing Record 13 of Set 5 | sao vicente\n",
      "Processing Record 14 of Set 5 | xuchang\n",
      "Processing Record 15 of Set 5 | lumut\n",
      "Processing Record 16 of Set 5 | chinde\n",
      "Processing Record 17 of Set 5 | puerto ayora\n",
      "Processing Record 18 of Set 5 | east ballina\n",
      "Processing Record 19 of Set 5 | taroa\n",
      "Processing Record 20 of Set 5 | sitka\n",
      "Processing Record 21 of Set 5 | acarau\n",
      "Processing Record 22 of Set 5 | tongchuanshi\n",
      "Processing Record 23 of Set 5 | gracemere\n",
      "Processing Record 24 of Set 5 | flying fish cove\n",
      "Processing Record 25 of Set 5 | altamont\n",
      "Processing Record 26 of Set 5 | bamboo flat\n",
      "Processing Record 27 of Set 5 | robore\n",
      "Processing Record 28 of Set 5 | port lincoln\n",
      "Processing Record 29 of Set 5 | west island\n",
      "Processing Record 30 of Set 5 | miguel aleman (la doce)\n",
      "City not found. Skipping...\n",
      "Processing Record 31 of Set 5 | kone\n",
      "Processing Record 32 of Set 5 | port saint john's\n",
      "Processing Record 33 of Set 5 | kununurra\n",
      "Processing Record 34 of Set 5 | lerwick\n",
      "Processing Record 35 of Set 5 | la ronge\n",
      "Processing Record 36 of Set 5 | yeniseysk\n",
      "Processing Record 37 of Set 5 | yesan\n",
      "Processing Record 38 of Set 5 | olavarria\n",
      "Processing Record 39 of Set 5 | klaksvik\n",
      "Processing Record 40 of Set 5 | northam\n",
      "Processing Record 41 of Set 5 | yuma\n",
      "Processing Record 42 of Set 5 | long\n",
      "Processing Record 43 of Set 5 | salinopolis\n",
      "Processing Record 44 of Set 5 | arba minch\n",
      "Processing Record 45 of Set 5 | plettenberg bay\n",
      "Processing Record 46 of Set 5 | hawaiian paradise park\n",
      "Processing Record 47 of Set 5 | gamba\n",
      "Processing Record 48 of Set 5 | geraldton\n",
      "Processing Record 49 of Set 5 | petropavlovsk-kamchatsky\n",
      "Processing Record 0 of Set 6 | margaret river\n",
      "Processing Record 1 of Set 6 | kirensk\n",
      "Processing Record 2 of Set 6 | woods creek\n",
      "Processing Record 3 of Set 6 | talnakh\n",
      "Processing Record 4 of Set 6 | palikir - national government center\n",
      "Processing Record 5 of Set 6 | nanning\n",
      "Processing Record 6 of Set 6 | sungai penuh\n",
      "Processing Record 7 of Set 6 | souillac\n"
     ]
    }
   ],
   "source": [
    "# Set the API base URL\n",
    "url = \"https://api.openweathermap.org/data/2.5/weather?\"\n",
    "\n",
    "# Define an empty list to fetch the weather data for each city\n",
    "city_data = []\n",
    "\n",
    "# Convert the cities weather data into a Pandas DataFrame\n",
    "city_data_df = pd.DataFrame(city_data)\n",
    "\n",
    "# Show Record Count\n",
    "city_data_df.count()\n",
    "\n",
    "# Print to logger\n",
    "print(\"Beginning Data Retrieval     \")\n",
    "print(\"-----------------------------\")\n",
    "\n",
    "# Create counters\n",
    "record_count = 1\n",
    "set_count = 1\n",
    "\n",
    "# Loop through all the cities in our list to fetch weather data\n",
    "for i, city in enumerate(cities):\n",
    "\n",
    "    # Group cities in sets of 50 for logging purposes\n",
    "    if (i % 50 == 0 and i >= 50):\n",
    "        set_count += 1\n",
    "        record_count = 0\n",
    "\n",
    "    # Create endpoint URL with each city\n",
    "    city_url = f\"{url}appid={weather_api_key}&units=metric&q={city}\"\n",
    "\n",
    "    # Log the url, record, and set numbers\n",
    "    print(\"Processing Record %s of Set %s | %s\" % (record_count, set_count, city))\n",
    "\n",
    "    # Add 1 to the record count\n",
    "    record_count += 1\n",
    "\n",
    "    # Run an API request for each of the cities\n",
    "    try:\n",
    "        # Parse the JSON and retrieve data\n",
    "        city_weather = requests.get(city_url).json()\n",
    "\n",
    "        # Parse out latitude, longitude, max temp, humidity, cloudiness, wind speed, country, and date\n",
    "        city_lat = city_weather['coord']['lat']\n",
    "        city_lng = city_weather['coord']['lon']\n",
    "        city_max_temp = city_weather['main']['temp_max']\n",
    "        city_humidity = city_weather['main']['humidity']\n",
    "        city_clouds = city_weather['clouds']['all']\n",
    "        city_wind = city_weather['wind']['speed']\n",
    "        city_country = city_weather['sys']['country']\n",
    "        city_date = city_weather['dt']\n",
    "\n",
    "        # Append the City information into city_data list\n",
    "        city_data.append({\"City\": city,\n",
    "                          \"Lat\": city_lat,\n",
    "                          \"Lng\": city_lng,\n",
    "                          \"Max Temp\": city_max_temp,\n",
    "                          \"Humidity\": city_humidity,\n",
    "                          \"Cloudiness\": city_clouds,\n",
    "                          \"Wind Speed\": city_wind,\n",
    "                          \"Country\": city_country,\n",
    "                          \"Date\": city_date})\n",
    "\n",
    "    # If an error is experienced, skip the city\n",
    "    except:\n",
    "        print(\"City not found. Skipping...\")\n",
    "        pass\n",
    "\n",
    "    # pause to avoid rate limiting\n",
    "    time.sleep(1)\n",
    "\n",
    "# Indicate that Data Loading is complete\n",
    "print(\"-----------------------------\")\n",
    "print(\"Data Retrieval Complete      \")\n",
    "print(\"-----------------------------\")"
   ]
  },
  {
   "cell_type": "code",
   "execution_count": null,
   "metadata": {},
   "outputs": [],
   "source": [
    "# Convert the cities weather data into a Pandas DataFrame\n",
    "city_data_df = pd.DataFrame(city_data)\n",
    "\n",
    "# Show Record Count\n",
    "city_data_df.count()\n",
    "\n",
    "print(city_data_df)"
   ]
  },
  {
   "cell_type": "code",
   "execution_count": null,
   "metadata": {},
   "outputs": [],
   "source": [
    "# Display sample data\n",
    "city_data_df.head()"
   ]
  },
  {
   "cell_type": "code",
   "execution_count": null,
   "metadata": {},
   "outputs": [],
   "source": [
    "import os\n",
    "\n",
    "# Step 1: Create the 'output_data' directory if it doesn't exist\n",
    "os.makedirs(\"output_data\", exist_ok=True)  # exist_ok=True prevents errors if the folder already exists\n",
    "\n",
    "# Step 2: Export the DataFrame to the CSV file inside the created folder\n",
    "city_data_df.to_csv(\"output_data/cities.csv\", index_label=\"City_ID\")\n",
    "\n",
    "print(\"CSV file saved successfully!\")\n",
    "\n",
    "# Export the City_Data into a csv\n",
    "city_data_df.to_csv(\"output_data/cities.csv\", index_label=\"City_ID\")"
   ]
  },
  {
   "cell_type": "code",
   "execution_count": null,
   "metadata": {},
   "outputs": [],
   "source": [
    "# Read saved data\n",
    "city_data_df = pd.read_csv(\"output_data/cities.csv\", index_col=\"City_ID\")\n",
    "\n",
    "# Display sample data\n",
    "city_data_df.head()"
   ]
  },
  {
   "cell_type": "markdown",
   "metadata": {},
   "source": [
    "### Create the Scatter Plots Requested\n",
    "\n",
    "#### Latitude Vs. Temperature"
   ]
  },
  {
   "cell_type": "code",
   "execution_count": null,
   "metadata": {
    "tags": []
   },
   "outputs": [],
   "source": [
    "import matplotlib.pyplot as plt\n",
    "from datetime import datetime\n",
    "from scipy import stats\n",
    "\n",
    "# Get today's date\n",
    "today = datetime.today().strftime('%Y-%m-%d')\n",
    "\n",
    "# Build scatter plot for latitude vs. temperature\n",
    "x_values = city_data_df['Lat']\n",
    "y_values = city_data_df['Max Temp']\n",
    "\n",
    "# Incorporate the other graph properties\n",
    "plt.scatter(x_values, y_values, edgecolors='black')\n",
    "plt.title(f\"City Max Latitude vs. Temperature ({today})\") \n",
    "plt.xlabel('Latitude')\n",
    "plt.ylabel('Max Temperature (C)')\n",
    "plt.grid(linestyle='--', alpha=0.7)\n",
    "plt.gca().set_axisbelow(True)\n",
    "\n",
    "# Save the figure\n",
    "plt.savefig(\"output_data/Fig1.png\")\n",
    "\n",
    "# Show plot\n",
    "plt.show()"
   ]
  },
  {
   "cell_type": "markdown",
   "metadata": {},
   "source": [
    "#### Latitude Vs. Humidity"
   ]
  },
  {
   "cell_type": "code",
   "execution_count": null,
   "metadata": {},
   "outputs": [],
   "source": [
    "# Build the scatter plots for latitude vs. humidity\n",
    "x_values = city_data_df['Lat']\n",
    "y_values = city_data_df['Humidity']\n",
    "\n",
    "# Incorporate the other graph properties\n",
    "plt.scatter(x_values,y_values, edgecolors='black')\n",
    "plt.title(f\"City Latitude vs. Humidity ({today})\") \n",
    "plt.xlabel('Latitude')\n",
    "plt.ylabel('Humidity (%)')\n",
    "plt.grid(linestyle='--', alpha=0.7) \n",
    "plt.gca().set_axisbelow(True) \n",
    "\n",
    "# Save the figure\n",
    "plt.savefig(\"output_data/Fig2.png\")\n",
    "\n",
    "# Show plot\n",
    "plt.show()"
   ]
  },
  {
   "cell_type": "markdown",
   "metadata": {},
   "source": [
    "#### Latitude Vs. Cloudiness"
   ]
  },
  {
   "cell_type": "code",
   "execution_count": null,
   "metadata": {},
   "outputs": [],
   "source": [
    "# Build the scatter plots for latitude vs. cloudiness\n",
    "x_values = city_data_df['Lat']\n",
    "y_values = city_data_df['Cloudiness']\n",
    "\n",
    "\n",
    "# Incorporate the other graph properties\n",
    "plt.scatter(x_values,y_values, edgecolors='black')\n",
    "plt.title(f\"City Latitude vs. Cloudiness ({today})\") \n",
    "plt.xlabel('Latitude')\n",
    "plt.ylabel('Cloudiness (%)')\n",
    "plt.grid(linestyle='--', alpha=0.7) \n",
    "plt.gca().set_axisbelow(True)\n",
    "\n",
    "# Save the figure\n",
    "plt.savefig(\"output_data/Fig3.png\")\n",
    "\n",
    "# Show plot\n",
    "plt.show()"
   ]
  },
  {
   "cell_type": "markdown",
   "metadata": {},
   "source": [
    "#### Latitude vs. Wind Speed Plot"
   ]
  },
  {
   "cell_type": "code",
   "execution_count": null,
   "metadata": {},
   "outputs": [],
   "source": [
    "# Build the scatter plots for latitude vs. wind speed\n",
    "x_values = city_data_df['Lat']\n",
    "y_values = city_data_df['Wind Speed']\n",
    "\n",
    "# Incorporate the other graph properties\n",
    "plt.scatter(x_values,y_values, edgecolors='black')\n",
    "plt.title(f\"City Latitude vs. Wind Speed ({today})\") \n",
    "plt.xlabel('Latitude')\n",
    "plt.ylabel('Wind Speed (m/s)')\n",
    "plt.grid(linestyle='--', alpha=0.7) \n",
    "plt.gca().set_axisbelow(True)\n",
    "\n",
    "# Save the figure\n",
    "plt.savefig(\"output_data/Fig4.png\")\n",
    "\n",
    "# Show plot\n",
    "plt.show()"
   ]
  },
  {
   "cell_type": "markdown",
   "metadata": {},
   "source": [
    "---\n",
    "\n",
    "## Requirement 2: Compute Linear Regression for Each Relationship\n"
   ]
  },
  {
   "cell_type": "code",
   "execution_count": null,
   "metadata": {},
   "outputs": [],
   "source": [
    "# Define a function to create Linear Regression plots\n",
    "def create_linear_regression(x, y, x_titles, y_titles):\n",
    "    # Perform linear regression\n",
    "    slope, intercept, r_value, p_value, std_err = stats.linregress(x, y)\n",
    "\n",
    "    # Print the regression statistics\n",
    "    print(\"r-value  : \", r_value, \"\\np-value  : \", p_value, \"\\nstd-error: \", std_err)\n",
    "\n",
    "    # Create regression line values\n",
    "    regress_values = x * slope + intercept\n",
    "    line_eq = f\"y = {round(slope, 2)}x + {round(intercept, 2)}\"\n",
    "    print(line_eq)\n",
    "\n",
    "    # Create Plot\n",
    "    plt.scatter(x, y, edgecolors='black')\n",
    "    plt.title(f\"{x_titles} vs. {y_titles} ({today})\")\n",
    "    plt.plot(x, regress_values, \"r-\", label=line_eq)\n",
    "\n",
    "    # Label plot and annotate the line equation\n",
    "    plt.xlabel(x_titles)\n",
    "    plt.ylabel(y_titles)\n",
    "    plt.grid(linestyle='--', alpha=0.7)\n",
    "    plt.gca().set_axisbelow(True)\n",
    "\n",
    "    # Dynamic annotation positioning\n",
    "    plt.annotate(line_eq, (x.mean(), y.mean()), fontsize=15, color=\"red\")\n",
    "\n",
    "    # Show the legend for the regression line\n",
    "    plt.legend()\n",
    "\n",
    "    # Show plot\n",
    "    plt.show()"
   ]
  },
  {
   "cell_type": "code",
   "execution_count": null,
   "metadata": {},
   "outputs": [],
   "source": [
    "# Create a DataFrame with the Northern Hemisphere data (Latitude >= 0)\n",
    "northern_hemi_df = city_data_df[city_data_df['Lat'] >= 0]\n",
    "\n",
    "# Display sample data\n",
    "northern_hemi_df.head()"
   ]
  },
  {
   "cell_type": "code",
   "execution_count": null,
   "metadata": {},
   "outputs": [],
   "source": [
    "# Create a DataFrame with the Southern Hemisphere data (Latitude < 0)\n",
    "southern_hemi_df = city_data_df[city_data_df['Lat'] < 0]\n",
    "\n",
    "# Display sample data\n",
    "southern_hemi_df.head()"
   ]
  },
  {
   "cell_type": "markdown",
   "metadata": {},
   "source": [
    "###  Temperature vs. Latitude Linear Regression Plot"
   ]
  },
  {
   "cell_type": "code",
   "execution_count": null,
   "metadata": {},
   "outputs": [],
   "source": [
    "# Linear regression on Northern Hemisphere\n",
    "x_values = northern_hemi_df['Lat']\n",
    "y_values = northern_hemi_df['Max Temp']\n",
    "\n",
    "create_linear_regression(x_values, y_values, 'Northern Hemisphere Latitude', 'Max Temp' )"
   ]
  },
  {
   "cell_type": "code",
   "execution_count": null,
   "metadata": {},
   "outputs": [],
   "source": [
    "# Linear regression on Southern Hemisphere\n",
    "x_values = southern_hemi_df['Lat']\n",
    "y_values = southern_hemi_df['Max Temp']\n",
    "\n",
    "create_linear_regression(x_values, y_values, 'Southern Hemisphere Latitude','Max Temp')"
   ]
  },
  {
   "cell_type": "markdown",
   "metadata": {},
   "source": [
    "**Discussion about the linear relationship:** YOUR RESPONSE HERE"
   ]
  },
  {
   "cell_type": "code",
   "execution_count": null,
   "metadata": {},
   "outputs": [],
   "source": [
    "I Noticed the graphs had an arch the to all the points and the highest temps were in the middle of the chart around 10 Latitude"
   ]
  },
  {
   "cell_type": "markdown",
   "metadata": {},
   "source": [
    "### Humidity vs. Latitude Linear Regression Plot"
   ]
  },
  {
   "cell_type": "code",
   "execution_count": null,
   "metadata": {},
   "outputs": [],
   "source": [
    "# Northern Hemisphere\n",
    "x_values = northern_hemi_df['Lat']\n",
    "y_values = northern_hemi_df['Humidity']\n",
    "\n",
    "create_linear_regression(x_values, y_values, 'Northern Hemisphere Latitude', 'Humidity')"
   ]
  },
  {
   "cell_type": "code",
   "execution_count": null,
   "metadata": {},
   "outputs": [],
   "source": [
    "# Southern Hemisphere\n",
    "x_values = southern_hemi_df['Lat']\n",
    "y_values = southern_hemi_df['Humidity']\n",
    "\n",
    "create_linear_regression(x_values, y_values, 'Southern Hemisphere Latitude','Humidity')"
   ]
  },
  {
   "cell_type": "markdown",
   "metadata": {},
   "source": [
    "**Discussion about the linear relationship:** YOUR RESPONSE HERE"
   ]
  },
  {
   "cell_type": "code",
   "execution_count": null,
   "metadata": {},
   "outputs": [],
   "source": [
    "This graph was a cluster of points in every direction but most of the points were at the top of the Y axis along the Humidity chart. "
   ]
  },
  {
   "cell_type": "markdown",
   "metadata": {},
   "source": [
    "### Cloudiness vs. Latitude Linear Regression Plot"
   ]
  },
  {
   "cell_type": "code",
   "execution_count": null,
   "metadata": {},
   "outputs": [],
   "source": [
    "# Northern Hemisphere\n",
    "x_values = northern_hemi_df['Lat']\n",
    "y_values = northern_hemi_df['Cloudiness']\n",
    "\n",
    "create_linear_regression(x_values, y_values, 'Northern Hemisphere Latitude', 'Cloudiness')"
   ]
  },
  {
   "cell_type": "code",
   "execution_count": null,
   "metadata": {},
   "outputs": [],
   "source": [
    "# Southern Hemisphere\n",
    "x_values = southern_hemi_df['Lat']\n",
    "y_values = southern_hemi_df['Cloudiness']\n",
    "\n",
    "create_linear_regression(x_values, y_values, 'Southern Hemisphere Latitude','Cloudiness')"
   ]
  },
  {
   "cell_type": "markdown",
   "metadata": {},
   "source": [
    "**Discussion about the linear relationship:** YOUR RESPONSE HERE"
   ]
  },
  {
   "cell_type": "code",
   "execution_count": null,
   "metadata": {},
   "outputs": [],
   "source": [
    "Cloudiness was clumped at th very top and very bottom with some around 75% "
   ]
  },
  {
   "cell_type": "markdown",
   "metadata": {},
   "source": [
    "### Wind Speed vs. Latitude Linear Regression Plot"
   ]
  },
  {
   "cell_type": "code",
   "execution_count": null,
   "metadata": {},
   "outputs": [],
   "source": [
    "# Northern Hemisphere\n",
    "x_values = northern_hemi_df['Lat']\n",
    "y_values = northern_hemi_df['Wind Speed']\n",
    "\n",
    "create_linear_regression(x_values, y_values, 'Northern Hemisphere Latitude', 'Wind Speed')"
   ]
  },
  {
   "cell_type": "code",
   "execution_count": null,
   "metadata": {},
   "outputs": [],
   "source": [
    "# Southern Hemisphere\n",
    "x_values = southern_hemi_df['Lat']\n",
    "y_values = southern_hemi_df['Wind Speed']\n",
    "\n",
    "create_linear_regression(x_values, y_values, 'Southern Hemisphere Latitude','Wind Speed')"
   ]
  },
  {
   "cell_type": "markdown",
   "metadata": {},
   "source": [
    "**Discussion about the linear relationship:** YOUR RESPONSE HERE"
   ]
  },
  {
   "cell_type": "code",
   "execution_count": null,
   "metadata": {},
   "outputs": [],
   "source": [
    "All of them were towards the bottom under 15 m/s theres only a few outside of it but overall clustered around"
   ]
  },
  {
   "cell_type": "code",
   "execution_count": null,
   "metadata": {},
   "outputs": [],
   "source": []
  }
 ],
 "metadata": {
  "anaconda-cloud": {},
  "kernel_info": {
   "name": "python3"
  },
  "kernelspec": {
   "display_name": "Python 3 (ipykernel)",
   "language": "python",
   "name": "python3"
  },
  "language_info": {
   "codemirror_mode": {
    "name": "ipython",
    "version": 3
   },
   "file_extension": ".py",
   "mimetype": "text/x-python",
   "name": "python",
   "nbconvert_exporter": "python",
   "pygments_lexer": "ipython3",
   "version": "3.12.4"
  },
  "latex_envs": {
   "LaTeX_envs_menu_present": true,
   "autoclose": false,
   "autocomplete": true,
   "bibliofile": "biblio.bib",
   "cite_by": "apalike",
   "current_citInitial": 1,
   "eqLabelWithNumbers": true,
   "eqNumInitial": 1,
   "hotkeys": {
    "equation": "Ctrl-E",
    "itemize": "Ctrl-I"
   },
   "labels_anchors": false,
   "latex_user_defs": false,
   "report_style_numbering": false,
   "user_envs_cfg": false
  },
  "nteract": {
   "version": "0.12.3"
  }
 },
 "nbformat": 4,
 "nbformat_minor": 4
}
